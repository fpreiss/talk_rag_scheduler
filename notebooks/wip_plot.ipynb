{
 "cells": [
  {
   "cell_type": "code",
   "execution_count": null,
   "metadata": {},
   "outputs": [],
   "source": [
    "import matplotlib.pyplot as plt\n",
    "import matplotlib as mpl\n",
    "import numpy as np\n",
    "\n",
    "plt.style.use([\"dark_background\"])\n",
    "\n",
    "fig, ax = plt.subplots()\n",
    "cmap = mpl.colormaps[\"tab20b\"]\n",
    "colors = cmap(np.linspace(0, 1, 6))\n",
    "counts = [2.61e9, 69e9, 175e9, 410e9, 1760e9]\n",
    "bar_labels = [\"gemma2-2b\", \"llama2-70b\", \"GPT-3\", \"llama3.1-405b\", \"GPT-4\"]\n",
    "ax.bar(bar_labels, counts, color=colors)\n",
    "\n",
    "ax.set_ylabel(\"Parameter Count\")\n",
    "ax.set_yscale(\"log\")\n",
    "ax.set_title(\"# of Parameters for different language models\")\n",
    "plt.savefig(\"parameter_count_log.svg\", bbox_inches=\"tight\", transparent=True)\n",
    "\n",
    "plt.show()"
   ]
  },
  {
   "cell_type": "code",
   "execution_count": null,
   "metadata": {},
   "outputs": [],
   "source": [
    "fig, ax = plt.subplots()\n",
    "cmap = mpl.colormaps[\"tab20b\"]\n",
    "colors = cmap(np.linspace(0, 1, 6))\n",
    "counts = [2.61e9, 69e9, 175e9, 410e9, 1760e9]\n",
    "bar_labels = [\"gemma2-2b\", \"llama2-70b\", \"GPT-3\", \"llama3.1-405b\", \"GPT-4\"]\n",
    "ax.bar(bar_labels, counts, color=colors)\n",
    "\n",
    "ax.set_ylabel(\"Parameter Count\")\n",
    "ax.set_title(\"# of Parameters for different language models\")\n",
    "plt.savefig(\"parameter_count.svg\", bbox_inches=\"tight\", transparent=True)\n",
    "\n",
    "plt.show()"
   ]
  }
 ],
 "metadata": {
  "kernelspec": {
   "display_name": "haystack-3.12.2",
   "language": "python",
   "name": "python3"
  },
  "language_info": {
   "codemirror_mode": {
    "name": "ipython",
    "version": 3
   },
   "file_extension": ".py",
   "mimetype": "text/x-python",
   "name": "python",
   "nbconvert_exporter": "python",
   "pygments_lexer": "ipython3",
   "version": "3.12.4"
  }
 },
 "nbformat": 4,
 "nbformat_minor": 2
}
