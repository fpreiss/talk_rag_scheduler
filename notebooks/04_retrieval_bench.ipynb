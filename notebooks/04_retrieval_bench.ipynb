{
 "cells": [
  {
   "cell_type": "code",
   "execution_count": null,
   "metadata": {},
   "outputs": [],
   "source": [
    "from talk_rag_scheduler.indexing_pipeline import (\n",
    "    remote_files_generator,\n",
    ")\n",
    "\n",
    "from talk_rag_scheduler.bench_retrieval import (\n",
    "    bench_bm25_retrieval,\n",
    "    bench_vector_retrieval,\n",
    "    pretty_confusion_info,\n",
    "    pretty_scores_info,\n",
    ")"
   ]
  },
  {
   "cell_type": "markdown",
   "metadata": {},
   "source": [
    "## Init Benchmark"
   ]
  },
  {
   "cell_type": "code",
   "execution_count": null,
   "metadata": {},
   "outputs": [],
   "source": [
    "source_files = list(remote_files_generator())  # requires files to be already downloaded\n",
    "n_documents = len(source_files)\n",
    "n_documents\n",
    "top_k = 10"
   ]
  },
  {
   "cell_type": "markdown",
   "metadata": {},
   "source": [
    "## Bench BM25 Retrieval"
   ]
  },
  {
   "cell_type": "code",
   "execution_count": null,
   "metadata": {},
   "outputs": [],
   "source": [
    "is_true_positive, confusion_matrix = bench_bm25_retrieval(top_k=top_k)\n",
    "print(is_true_positive)\n",
    "print(pretty_confusion_info(confusion_matrix))\n",
    "print(pretty_scores_info(confusion_matrix, top_k=top_k))"
   ]
  },
  {
   "cell_type": "markdown",
   "metadata": {},
   "source": [
    "## Bench Vector Retrieval"
   ]
  },
  {
   "cell_type": "code",
   "execution_count": null,
   "metadata": {},
   "outputs": [],
   "source": [
    "is_true_positive, confusion_matrix = bench_vector_retrieval(top_k=top_k)\n",
    "print(is_true_positive)\n",
    "print(pretty_confusion_info(confusion_matrix))\n",
    "print(pretty_scores_info(confusion_matrix, top_k=top_k))"
   ]
  },
  {
   "cell_type": "markdown",
   "metadata": {},
   "source": [
    "## Bench Vector Retrieval with document Splitting"
   ]
  },
  {
   "cell_type": "code",
   "execution_count": null,
   "metadata": {},
   "outputs": [],
   "source": [
    "is_true_positive, confusion_matrix = bench_vector_retrieval(\n",
    "    top_k=top_k, mode=\"semantic_split\"\n",
    ")\n",
    "print(is_true_positive)\n",
    "print(pretty_confusion_info(confusion_matrix))\n",
    "print(pretty_scores_info(confusion_matrix, top_k=top_k))"
   ]
  },
  {
   "cell_type": "markdown",
   "metadata": {},
   "source": [
    "## Improvement Options\n",
    "\n",
    "* The above only tries retrieval over a single query. To get confidence in the retrieval quality,\n",
    "  we should craft a much larger dataset.\n",
    "* haystack provides a number of resources on evaluation:\n",
    "    * [docs/evaluation](https://docs.haystack.deepset.ai/docs/evaluation)\n",
    "    * [docs/evaluators](https://docs.haystack.deepset.ai/docs/evaluators)\n",
    "    * [tutorials/guide_evaluation](https://haystack.deepset.ai/tutorials/guide_evaluation)\n",
    "    * [tutorials/05_evaluation](https://haystack.deepset.ai/tutorials/05_evaluation)\n",
    "    * [tutorials/35_evaluating_rag_pipelines](https://haystack.deepset.ai/tutorials/35_evaluating_rag_pipelines)\n",
    "* Consult current literature:\n",
    "    * [Large Language Models for Software Engineering: A Systematic Literature Review](https://arxiv.org/pdf/2308.10620v6)\n",
    "    * [Retrieval-Augmented Generation for Large Language Models: A Survey](https://arxiv.org/pdf/2312.10997)"
   ]
  }
 ],
 "metadata": {
  "kernelspec": {
   "display_name": "haystack-3.11.9",
   "language": "python",
   "name": "python3"
  },
  "language_info": {
   "codemirror_mode": {
    "name": "ipython",
    "version": 3
   },
   "file_extension": ".py",
   "mimetype": "text/x-python",
   "name": "python",
   "nbconvert_exporter": "python",
   "pygments_lexer": "ipython3",
   "version": "3.12.4"
  }
 },
 "nbformat": 4,
 "nbformat_minor": 2
}
