{
 "cells": [
  {
   "cell_type": "code",
   "execution_count": null,
   "metadata": {},
   "outputs": [],
   "source": [
    "from talk_rag_scheduler.indexing_pipeline import (\n",
    "    ingest_knowledge_and_run_indexing,\n",
    "    KEYWORD_INDEXING_PIPE_IMG,\n",
    "    SEMANTIC_INDEXING_PIPE_IMG,\n",
    "    SEMANTIC_SPLIT_INDEXING_PIPE_IMG,\n",
    ")\n",
    "from talk_rag_scheduler.utils import prettify_document_info\n",
    "from haystack.document_stores.in_memory import InMemoryDocumentStore\n",
    "\n",
    "from IPython.display import Image"
   ]
  },
  {
   "cell_type": "markdown",
   "metadata": {},
   "source": [
    "## BM Indexing Pipeline\n"
   ]
  },
  {
   "cell_type": "code",
   "execution_count": null,
   "metadata": {},
   "outputs": [],
   "source": [
    "document_store = InMemoryDocumentStore()\n",
    "indexing_pipeline = ingest_knowledge_and_run_indexing(\n",
    "    document_store,\n",
    "    indexing_mode=\"keyword\",\n",
    ")\n",
    "Image(KEYWORD_INDEXING_PIPE_IMG)"
   ]
  },
  {
   "cell_type": "markdown",
   "metadata": {},
   "source": [
    "## Semantic Vector Indexing Pipeline\n"
   ]
  },
  {
   "cell_type": "code",
   "execution_count": null,
   "metadata": {},
   "outputs": [],
   "source": [
    "document_store_semantic = InMemoryDocumentStore()\n",
    "indexing_pipeline_semantic = ingest_knowledge_and_run_indexing(\n",
    "    document_store_semantic,\n",
    "    indexing_mode=\"semantic\",\n",
    "    ollama_embedding_model=\"mxbai-embed-large\",\n",
    ")\n",
    "Image(SEMANTIC_INDEXING_PIPE_IMG)"
   ]
  },
  {
   "cell_type": "code",
   "execution_count": null,
   "metadata": {},
   "outputs": [],
   "source": [
    "documents_semantic = list(document_store_semantic.storage.values())\n",
    "print(f\"Number of documents: {len(documents_semantic)}\")\n",
    "document_semantic_generator = iter(documents_semantic)"
   ]
  },
  {
   "cell_type": "code",
   "execution_count": null,
   "metadata": {},
   "outputs": [],
   "source": [
    "document_semantic = next(document_semantic_generator)\n",
    "print(prettify_document_info(document_semantic), end=f\"\\n{80*'='}\\n\\n\")\n",
    "print(document_semantic.content)"
   ]
  },
  {
   "cell_type": "markdown",
   "metadata": {},
   "source": [
    "## Semantic Vector Indexing Pipeline with document splitting\n"
   ]
  },
  {
   "cell_type": "code",
   "execution_count": null,
   "metadata": {},
   "outputs": [],
   "source": [
    "document_store_semantic_split = InMemoryDocumentStore()\n",
    "indexing_pipeline_semantic_split = ingest_knowledge_and_run_indexing(\n",
    "    document_store_semantic_split,\n",
    "    ollama_embedding_model=\"mxbai-embed-large\",\n",
    "    indexing_mode=\"semantic_split\",\n",
    "    split_by=\"passage\",\n",
    "    split_length=16,\n",
    "    split_overlap=4,\n",
    "    split_threshold=12,\n",
    ")\n",
    "Image(SEMANTIC_SPLIT_INDEXING_PIPE_IMG)"
   ]
  },
  {
   "cell_type": "code",
   "execution_count": null,
   "metadata": {},
   "outputs": [],
   "source": [
    "documents_semantic_split = list(document_store_semantic_split.storage.values())\n",
    "print(f\"Number of documents: {len(documents_semantic_split)}\")\n",
    "document_semantic_split_generator = iter(documents_semantic_split)"
   ]
  },
  {
   "cell_type": "code",
   "execution_count": null,
   "metadata": {},
   "outputs": [],
   "source": [
    "document_semantic_split = next(document_semantic_split_generator)\n",
    "print(prettify_document_info(document_semantic_split), end=f\"\\n{80*'='}\\n\\n\")\n",
    "print(document_semantic_split.content)"
   ]
  },
  {
   "cell_type": "markdown",
   "metadata": {},
   "source": [
    "## Improvement Options\n",
    "\n",
    "- Tune the document splitting parameters\n",
    "- Embed Metadata into the documents e.g. `meta_fields_to_embed` argument in `OllamaDocumentEmbedder`\n",
    "- Try out different embedding models\n",
    "- Try out different options in `InMemoryDocumentStore` (e.g. `bm25_algorithm`, `embedding_similarity_function`)\n",
    "- Use hybrid embedding/retrieval methods & reranking\n",
    "\n",
    "Every embedder is different, to use embedding models to their full potential, read their documentation. The presented implementation does not take the following into account:\n",
    "\n",
    "- some embedding models require different query pre-prompts during retrieval and indexing\n",
    "- some embedding models are dual encoders => different model for indexing vs retrieval\n",
    "- we are ignoring the maximal sequence length of the used embedding model, which can lead to truncated embeddings"
   ]
  },
  {
   "cell_type": "markdown",
   "metadata": {},
   "source": []
  }
 ],
 "metadata": {
  "kernelspec": {
   "display_name": "haystack-3.11.9",
   "language": "python",
   "name": "python3"
  },
  "language_info": {
   "codemirror_mode": {
    "name": "ipython",
    "version": 3
   },
   "file_extension": ".py",
   "mimetype": "text/x-python",
   "name": "python",
   "nbconvert_exporter": "python",
   "pygments_lexer": "ipython3",
   "version": "3.12.4"
  }
 },
 "nbformat": 4,
 "nbformat_minor": 2
}
