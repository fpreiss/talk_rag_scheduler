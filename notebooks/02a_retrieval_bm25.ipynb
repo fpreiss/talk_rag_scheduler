{
 "cells": [
  {
   "cell_type": "code",
   "execution_count": null,
   "metadata": {},
   "outputs": [],
   "source": [
    "from talk_rag_scheduler.retrieval_pipeline import (\n",
    "    prettify_document_info,\n",
    "    RETRIEVAL_KEYWORD_PIPE_IMG,\n",
    "    create_retrieval_keyword_pipeline,\n",
    ")\n",
    "from talk_rag_scheduler.indexing_pipeline import (\n",
    "    ingest_knowledge_and_run_indexing,\n",
    ")\n",
    "from talk_rag_scheduler.const import QUERY_0\n",
    "from talk_rag_scheduler.models import RetrievalResult\n",
    "from haystack.document_stores.in_memory import InMemoryDocumentStore\n",
    "from IPython.display import Markdown, Image"
   ]
  },
  {
   "cell_type": "code",
   "execution_count": null,
   "metadata": {},
   "outputs": [],
   "source": [
    "document_store = InMemoryDocumentStore()\n",
    "ingest_knowledge_and_run_indexing(document_store, indexing_mode=\"keyword\")"
   ]
  },
  {
   "cell_type": "code",
   "execution_count": null,
   "metadata": {},
   "outputs": [],
   "source": [
    "retrieval_bm25_pipeline = create_retrieval_keyword_pipeline(document_store)\n",
    "Image(RETRIEVAL_KEYWORD_PIPE_IMG)"
   ]
  },
  {
   "cell_type": "code",
   "execution_count": null,
   "metadata": {},
   "outputs": [],
   "source": [
    "results: RetrievalResult = retrieval_bm25_pipeline.run(\n",
    "    {\n",
    "        \"query\": \"How can I schedule an asynchronous job using the scheduler python library?\",\n",
    "        \"top_k\": 5,\n",
    "    }\n",
    ")\n",
    "for document in results[\"retriever\"][\"documents\"]:\n",
    "    print(prettify_document_info(document))"
   ]
  },
  {
   "cell_type": "code",
   "execution_count": null,
   "metadata": {},
   "outputs": [],
   "source": [
    "doc_gen = (document for document in results[\"retriever\"][\"documents\"])"
   ]
  },
  {
   "cell_type": "code",
   "execution_count": null,
   "metadata": {},
   "outputs": [],
   "source": [
    "document = next(doc_gen)\n",
    "print(prettify_document_info(document))\n",
    "Markdown(f\"{document.content}\")"
   ]
  }
 ],
 "metadata": {
  "kernelspec": {
   "display_name": "haystack-3.11.9",
   "language": "python",
   "name": "python3"
  },
  "language_info": {
   "codemirror_mode": {
    "name": "ipython",
    "version": 3
   },
   "file_extension": ".py",
   "mimetype": "text/x-python",
   "name": "python",
   "nbconvert_exporter": "python",
   "pygments_lexer": "ipython3",
   "version": "3.12.4"
  }
 },
 "nbformat": 4,
 "nbformat_minor": 2
}
