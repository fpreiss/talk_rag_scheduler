{
 "cells": [
  {
   "cell_type": "code",
   "execution_count": null,
   "metadata": {},
   "outputs": [],
   "source": [
    "from talk_rag_scheduler.retrieval_pipeline import (\n",
    "    prettify_document_info,\n",
    "    RETRIEVAL_VECTOR_PIPE_IMG,\n",
    "    create_retrieval_embedding_pipeline,\n",
    ")\n",
    "from talk_rag_scheduler.indexing_pipeline import (\n",
    "    ingest_knowledge_and_run_indexing,\n",
    ")\n",
    "from haystack.document_stores.in_memory import InMemoryDocumentStore\n",
    "from IPython.display import Markdown, Image"
   ]
  },
  {
   "cell_type": "code",
   "execution_count": null,
   "metadata": {},
   "outputs": [],
   "source": [
    "document_store = InMemoryDocumentStore()\n",
    "ingest_knowledge_and_run_indexing(\n",
    "    document_store, indexing_mode=\"semantic\", ollama_embedding_model=\"mxbai-embed-large\"\n",
    ")"
   ]
  },
  {
   "cell_type": "code",
   "execution_count": null,
   "metadata": {},
   "outputs": [],
   "source": [
    "retrieval_embedding_pipeline = create_retrieval_embedding_pipeline(document_store)\n",
    "Image(RETRIEVAL_VECTOR_PIPE_IMG)"
   ]
  },
  {
   "cell_type": "code",
   "execution_count": null,
   "metadata": {},
   "outputs": [],
   "source": [
    "results = retrieval_embedding_pipeline.run(\n",
    "    {\n",
    "        \"text\": \"How can I schedule an asynchronous job using the scheduler python library?\",\n",
    "        \"top_k\": 5,\n",
    "    }\n",
    ")\n",
    "for document in results[\"retriever\"][\"documents\"]:\n",
    "    print(prettify_document_info(document))"
   ]
  },
  {
   "cell_type": "code",
   "execution_count": null,
   "metadata": {},
   "outputs": [],
   "source": [
    "doc_gen = (document for document in results[\"retriever\"][\"documents\"])"
   ]
  },
  {
   "cell_type": "code",
   "execution_count": null,
   "metadata": {},
   "outputs": [],
   "source": [
    "document = next(doc_gen)\n",
    "print(prettify_document_info(document))\n",
    "Markdown(f\"{document.content}\")"
   ]
  },
  {
   "cell_type": "markdown",
   "metadata": {},
   "source": [
    "## Improvement Options\n",
    "\n",
    "* everything that applies to the indexing step also applies here\n",
    "* consider using 2-stage retrieval, hybrid retrieval, multi-vector retrieval or reranking"
   ]
  },
  {
   "cell_type": "markdown",
   "metadata": {},
   "source": []
  }
 ],
 "metadata": {
  "kernelspec": {
   "display_name": "haystack-3.11.9",
   "language": "python",
   "name": "python3"
  },
  "language_info": {
   "codemirror_mode": {
    "name": "ipython",
    "version": 3
   },
   "file_extension": ".py",
   "mimetype": "text/x-python",
   "name": "python",
   "nbconvert_exporter": "python",
   "pygments_lexer": "ipython3",
   "version": "3.12.4"
  }
 },
 "nbformat": 4,
 "nbformat_minor": 2
}
