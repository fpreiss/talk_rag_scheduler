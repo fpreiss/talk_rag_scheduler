{
 "cells": [
  {
   "cell_type": "code",
   "execution_count": null,
   "metadata": {},
   "outputs": [],
   "source": [
    "from haystack import Pipeline\n",
    "\n",
    "from talk_rag_scheduler.rag_pipeline import (\n",
    "    create_rag_pipeline,\n",
    "    prettify_rag_info,\n",
    "    KEYWORD_RAG_PIPELINE_IMG,\n",
    "    SEMANTIC_RAG_PIPELINE_IMG,\n",
    ")\n",
    "from talk_rag_scheduler.const import (\n",
    "    OLLAMA_MODEL,\n",
    "    OLLAMA_EMBEDDING_MODEL,\n",
    "    NUM_PREDICT,\n",
    "    TOP_K,\n",
    ")\n",
    "from talk_rag_scheduler.indexing_pipeline import (\n",
    "    ingest_knowledge_and_run_indexing,\n",
    ")\n",
    "from talk_rag_scheduler.models import MetaType, RagOutput\n",
    "from haystack.document_stores.in_memory import InMemoryDocumentStore\n",
    "\n",
    "from IPython.display import Markdown, Image"
   ]
  },
  {
   "cell_type": "markdown",
   "metadata": {},
   "source": [
    "## RAG with Keyword search"
   ]
  },
  {
   "cell_type": "code",
   "execution_count": null,
   "metadata": {},
   "outputs": [],
   "source": [
    "semantic_document_store = InMemoryDocumentStore()\n",
    "semantic_indexing_pipeline = ingest_knowledge_and_run_indexing(semantic_document_store)"
   ]
  },
  {
   "cell_type": "code",
   "execution_count": null,
   "metadata": {},
   "outputs": [],
   "source": [
    "keyword_rag_pipeline: Pipeline = create_rag_pipeline(\n",
    "    document_store=semantic_document_store, ollama_model=OLLAMA_MODEL\n",
    ")\n",
    "query = \"How can I schedule an asynchronous job using the scheduler python library?\"\n",
    "results: RagOutput = keyword_rag_pipeline.run(\n",
    "    {\n",
    "        \"retriever\": {\"query\": query, \"top_k\": TOP_K},\n",
    "        \"prompt_builder\": {\"query\": query},\n",
    "        \"llm\": {\"generation_kwargs\": {\"num_predict\": NUM_PREDICT}},\n",
    "    }\n",
    ")\n",
    "reply: str = results[\"llm\"][\"replies\"][0]\n",
    "meta: MetaType = results[\"llm\"][\"meta\"][0]\n",
    "Image(KEYWORD_RAG_PIPELINE_IMG)"
   ]
  },
  {
   "cell_type": "code",
   "execution_count": null,
   "metadata": {},
   "outputs": [],
   "source": [
    "Markdown(reply)"
   ]
  },
  {
   "cell_type": "code",
   "execution_count": null,
   "metadata": {},
   "outputs": [],
   "source": [
    "print(prettify_rag_info(meta))"
   ]
  },
  {
   "cell_type": "markdown",
   "metadata": {},
   "source": [
    "## RAG with Semantic search"
   ]
  },
  {
   "cell_type": "markdown",
   "metadata": {},
   "source": []
  },
  {
   "cell_type": "code",
   "execution_count": null,
   "metadata": {},
   "outputs": [],
   "source": [
    "semantic_document_store = InMemoryDocumentStore()\n",
    "semantic_indexing_pipeline = ingest_knowledge_and_run_indexing(\n",
    "    semantic_document_store,\n",
    "    indexing_mode=\"semantic_split\",\n",
    "    ollama_embedding_model=\"mxbai-embed-large\",\n",
    "    split_by=\"passage\",\n",
    "    split_length=16,\n",
    "    split_overlap=4,\n",
    "    split_threshold=12,\n",
    ")"
   ]
  },
  {
   "cell_type": "code",
   "execution_count": null,
   "metadata": {},
   "outputs": [],
   "source": [
    "semantic_rag_pipeline: Pipeline = create_rag_pipeline(\n",
    "    document_store=semantic_document_store,\n",
    "    ollama_model=OLLAMA_MODEL,\n",
    "    ollama_embedding_model=OLLAMA_EMBEDDING_MODEL,\n",
    "    indexing_mode=\"semantic_split\",\n",
    ")\n",
    "query = \"How can I schedule an asynchronous job using the scheduler python library?\"\n",
    "semantic_results: RagOutput = keyword_rag_pipeline.run(\n",
    "    {\n",
    "        \"retriever\": {\"query\": query, \"top_k\": TOP_K},\n",
    "        \"prompt_builder\": {\"query\": query},\n",
    "        \"llm\": {\"generation_kwargs\": {\"num_predict\": NUM_PREDICT}},\n",
    "    }\n",
    ")\n",
    "semantic_reply: str = semantic_results[\"llm\"][\"replies\"][0]\n",
    "semantic_meta: MetaType = semantic_results[\"llm\"][\"meta\"][0]\n",
    "Image(SEMANTIC_RAG_PIPELINE_IMG)"
   ]
  },
  {
   "cell_type": "code",
   "execution_count": null,
   "metadata": {},
   "outputs": [],
   "source": [
    "Markdown(semantic_reply)"
   ]
  }
 ],
 "metadata": {
  "kernelspec": {
   "display_name": "haystack-3.12.2",
   "language": "python",
   "name": "python3"
  },
  "language_info": {
   "codemirror_mode": {
    "name": "ipython",
    "version": 3
   },
   "file_extension": ".py",
   "mimetype": "text/x-python",
   "name": "python",
   "nbconvert_exporter": "python",
   "pygments_lexer": "ipython3",
   "version": "3.12.4"
  }
 },
 "nbformat": 4,
 "nbformat_minor": 2
}
