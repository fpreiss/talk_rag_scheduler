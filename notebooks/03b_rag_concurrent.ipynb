{
 "cells": [
  {
   "cell_type": "code",
   "execution_count": null,
   "metadata": {},
   "outputs": [],
   "source": [
    "import time\n",
    "from talk_rag_scheduler.indexing_pipeline import (\n",
    "    ingest_knowledge_and_run_indexing,\n",
    ")\n",
    "from talk_rag_scheduler.rag_pipeline_concurrent import (\n",
    "    CONCURRENT_KEYWORD_RAG_PIPELINE_IMG,\n",
    "    CONCURRENT_SEMANTIC_RAG_PIPELINE_IMG,\n",
    "    list_concurrent_replies,\n",
    "    prettify_concurrent_rag_info,\n",
    "    create_concurrent_rag_pipeline,\n",
    ")\n",
    "from talk_rag_scheduler.const import (\n",
    "    OLLAMA_MODEL,\n",
    "    NUM_PREDICT,\n",
    "    TOP_K,\n",
    "    OLLAMA_EMBEDDING_MODEL,\n",
    ")\n",
    "from haystack import Pipeline\n",
    "from IPython.display import Markdown, Image\n",
    "from haystack.document_stores.in_memory import InMemoryDocumentStore"
   ]
  },
  {
   "cell_type": "markdown",
   "metadata": {},
   "source": [
    "## Concurrent RAG with Keyword search"
   ]
  },
  {
   "cell_type": "code",
   "execution_count": null,
   "metadata": {},
   "outputs": [],
   "source": [
    "document_store = InMemoryDocumentStore()\n",
    "indexing_pipeline = ingest_knowledge_and_run_indexing(document_store)"
   ]
  },
  {
   "cell_type": "code",
   "execution_count": null,
   "metadata": {},
   "outputs": [],
   "source": [
    "concurrent_rag_pipeline: Pipeline = create_concurrent_rag_pipeline(\n",
    "    document_store=document_store, n_concurrent=4, ollama_model=OLLAMA_MODEL\n",
    ")\n",
    "Image(CONCURRENT_KEYWORD_RAG_PIPELINE_IMG)"
   ]
  },
  {
   "cell_type": "code",
   "execution_count": null,
   "metadata": {},
   "outputs": [],
   "source": [
    "query = \"How can I schedule an asynchronous job using the scheduler python library?\"\n",
    "\n",
    "t_start = time.perf_counter()\n",
    "results = concurrent_rag_pipeline.run(\n",
    "    {\n",
    "        \"retriever\": {\"query\": query, \"top_k\": TOP_K},\n",
    "        \"prompt_builder\": {\"query\": query},\n",
    "        \"llms\": {\"generation_kwargs\": {\"num_predict\": NUM_PREDICT}},\n",
    "    }\n",
    ")\n",
    "t_total = time.perf_counter() - t_start\n",
    "results[\"t_total\"] = t_total"
   ]
  },
  {
   "cell_type": "code",
   "execution_count": null,
   "metadata": {},
   "outputs": [],
   "source": [
    "res_gen = (res[0] for res in list_concurrent_replies(results))"
   ]
  },
  {
   "cell_type": "code",
   "execution_count": null,
   "metadata": {},
   "outputs": [],
   "source": [
    "res = next(res_gen)\n",
    "Markdown(res)"
   ]
  },
  {
   "cell_type": "code",
   "execution_count": null,
   "metadata": {},
   "outputs": [],
   "source": [
    "print(prettify_concurrent_rag_info(results))"
   ]
  },
  {
   "cell_type": "markdown",
   "metadata": {},
   "source": [
    "## Concurrent RAG with Semantic search"
   ]
  },
  {
   "cell_type": "code",
   "execution_count": null,
   "metadata": {},
   "outputs": [],
   "source": [
    "semantic_document_store = InMemoryDocumentStore()\n",
    "semantic_indexing_pipeline = ingest_knowledge_and_run_indexing(\n",
    "    semantic_document_store,\n",
    "    ollama_embedding_model=\"mxbai-embed-large\",\n",
    "    indexing_mode=\"semantic_split\",\n",
    "    split_by=\"passage\",\n",
    "    split_length=16,\n",
    "    split_overlap=4,\n",
    "    split_threshold=12,\n",
    ")"
   ]
  },
  {
   "cell_type": "code",
   "execution_count": null,
   "metadata": {},
   "outputs": [],
   "source": [
    "concurrent_rag_pipeline: Pipeline = create_concurrent_rag_pipeline(\n",
    "    document_store=semantic_document_store,\n",
    "    n_concurrent=4,\n",
    "    ollama_model=OLLAMA_MODEL,\n",
    "    indexing_mode=\"semantic_split\",\n",
    "    ollama_embedding_model=OLLAMA_EMBEDDING_MODEL,\n",
    ")\n",
    "query = \"How can I schedule an asynchronous job using the scheduler python library?\"\n",
    "t_start = time.perf_counter()\n",
    "semantic_results = concurrent_rag_pipeline.run(\n",
    "    {\n",
    "        \"text_embedder\": {\"text\": query},\n",
    "        \"retriever\": {\"top_k\": TOP_K},\n",
    "        \"prompt_builder\": {\"query\": query},\n",
    "        \"llms\": {\"generation_kwargs\": {\"num_predict\": NUM_PREDICT}},\n",
    "    }\n",
    ")\n",
    "t_total = time.perf_counter() - t_start\n",
    "semantic_results[\"t_total\"] = t_total\n",
    "Image(CONCURRENT_SEMANTIC_RAG_PIPELINE_IMG)"
   ]
  },
  {
   "cell_type": "code",
   "execution_count": null,
   "metadata": {},
   "outputs": [],
   "source": [
    "semantic_res_gen = (res[0] for res in list_concurrent_replies(semantic_results))"
   ]
  },
  {
   "cell_type": "code",
   "execution_count": null,
   "metadata": {},
   "outputs": [],
   "source": [
    "res = next(semantic_res_gen)\n",
    "Markdown(res)"
   ]
  },
  {
   "cell_type": "code",
   "execution_count": null,
   "metadata": {},
   "outputs": [],
   "source": [
    "print(prettify_concurrent_rag_info(semantic_results))"
   ]
  }
 ],
 "metadata": {
  "kernelspec": {
   "display_name": "haystack-3.12.2",
   "language": "python",
   "name": "python3"
  },
  "language_info": {
   "codemirror_mode": {
    "name": "ipython",
    "version": 3
   },
   "file_extension": ".py",
   "mimetype": "text/x-python",
   "name": "python",
   "nbconvert_exporter": "python",
   "pygments_lexer": "ipython3",
   "version": "3.12.4"
  }
 },
 "nbformat": 4,
 "nbformat_minor": 2
}
